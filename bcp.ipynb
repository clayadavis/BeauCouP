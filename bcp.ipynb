{
 "metadata": {
  "name": ""
 },
 "nbformat": 3,
 "nbformat_minor": 0,
 "worksheets": [
  {
   "cells": [
    {
     "cell_type": "code",
     "collapsed": false,
     "input": [
      "#from numba import autojit\n",
      "import numpy as np\n",
      "import pandas as pd\n",
      "from scipy.special import gamma as Gamma\n",
      "\n",
      "import multiprocessing as mp\n",
      "import Queue"
     ],
     "language": "python",
     "metadata": {},
     "outputs": [],
     "prompt_number": 1
    },
    {
     "cell_type": "code",
     "collapsed": false,
     "input": [
      "#x = np.array([x for x in open('test_case.txt')], dtype=np.int32)\n",
      "x = np.array([x for x in open('coalmine.txt')], dtype=np.int32)"
     ],
     "language": "python",
     "metadata": {},
     "outputs": [],
     "prompt_number": 2
    },
    {
     "cell_type": "code",
     "collapsed": false,
     "input": [
      "pd.Series(x).plot(style='o')"
     ],
     "language": "python",
     "metadata": {},
     "outputs": [
      {
       "metadata": {},
       "output_type": "pyout",
       "prompt_number": 3,
       "text": [
        "<matplotlib.axes.AxesSubplot at 0x2d27110>"
       ]
      },
      {
       "metadata": {},
       "output_type": "display_data",
       "png": "[encoded data removed]",
       "text": [
        "<matplotlib.figure.Figure at 0x23d7890>"
       ]
      }
     ],
     "prompt_number": 3
    },
    {
     "cell_type": "code",
     "collapsed": false,
     "input": [
      "def estimate_hyperparameters(x, ii, jj, kk, return_grid=True):\n",
      "    def likelihood(x, p, a, b):\n",
      "        print \"Calculating p={} a={} b={}\".format(p, a, b)\n",
      "        p_stars = np.zeros((len(x),len(x)))\n",
      "        \n",
      "        def A(i, t):\n",
      "            return a + sum(x[i:t+1])\n",
      "        \n",
      "        def B(i, t):\n",
      "            return (1 / b + t - i + 1) ** -1\n",
      "        \n",
      "        def P(i, t):\n",
      "            if i > t:\n",
      "                raise ValueError('P(i, t) undefined for i > t.')\n",
      "            if i == t:\n",
      "                # same as p_stars[i, t] / p_stars[t:t+1, t].sum()\n",
      "                return 1.0\n",
      "            else:\n",
      "                return p_stars[i, t] / p_stars[i:t+1, t].sum()\n",
      "\n",
      "        def pi(i, j):\n",
      "            return B(i, j) ** A(i, j) / Gamma(A(i, j))\n",
      "\n",
      "        def pi_ratio(i, j):\n",
      "            '''\n",
      "            pi(i, t-1) / pi(i, t)\n",
      "            '''               \n",
      "            A_i_jminus1 = A(i, j-1)\n",
      "            r1 = np.exp( A_i_jminus1 * np.log(B(i, j-1)) -\n",
      "                         A(i, j)     * np.log(B(i, j  )) )\n",
      "            #Not sure where this cutoff should be\n",
      "            if A_i_jminus1 < 60:\n",
      "                r2 = Gamma(A(i, j)) / Gamma(A_i_jminus1)\n",
      "            else:\n",
      "                # from Stirling's approximation\n",
      "                r2 = A_i_jminus1 ** x[j]\n",
      "            \n",
      "            if np.isinf(r1) or np.isinf(r2) or np.isnan(r1) or np.isnan(r2):\n",
      "                raise ValueError('r1: {}\\nr2: {}'.format(r1, r2))\n",
      "            return r1 * r2\n",
      "        \n",
      "        def p_star(i, t):\n",
      "            if i > t:\n",
      "                raise ValueError('p_star(i, t) undefined for i > t.')\n",
      "            if i == t:\n",
      "                pi_00 = b ** -a / Gamma(a)\n",
      "                val = p * pi_00 / pi(t, t)\n",
      "            else:\n",
      "                #same as val = p * (1 - p) * P(i, t-1) * pi(i, t-1) / pi(i, t)\n",
      "                val = (p * (1 - p) * P(i, t-1) * pi_ratio(i, t))\n",
      "            if np.isnan(val) or np.isinf(val):\n",
      "            #    print \"(i, t): \", (i, t)\n",
      "            #    print \"p   :\", p\n",
      "            #    print \"P   :\", P(i, t-1)\n",
      "            #    print \"pi_ratio:\", pr\n",
      "            #    print 'p*[i:t+1, t]:', p_stars[0:t+1, t]\n",
      "            #    print 'p*[i, :t]:', p_stars[i, :t]\n",
      "            #    print 'pi[i, :t]:', [pi(i, t_) for t_ in range(t+1)]\n",
      "            #    print A(i, t)\n",
      "                raise ValueError('p*({}, {}) value \"{}\" out of range.'.format(i, j, val))\n",
      "            \n",
      "            return val\n",
      "        \n",
      "        for t in range(len(x)):\n",
      "            for i in range(t + 1):\n",
      "                val = p_star(i, t)\n",
      "                p_stars[i, t] = val\n",
      "        \n",
      "        # same as np.product(p_stars.sum(1))\n",
      "        return np.sum(np.log(p_stars.sum(1))), p_stars\n",
      "    \n",
      "    # Use a grid search. This can and should be sped up with Numba(pro) and/or parallel\n",
      "    grid = np.zeros((len(ii), len(jj), len(kk)))   \n",
      "    p_star_grid = {}\n",
      "    for (i_idx, i) in enumerate(ii):\n",
      "        for (j_idx, j) in enumerate(jj):\n",
      "            for (k_idx, k) in enumerate(kk):\n",
      "                p = 2 ** i / float(len(x))\n",
      "                a = 0.5 * j\n",
      "                b = 0.1 + 0.2 * k\n",
      "                lik, p_stars = likelihood(x, p, a, b)\n",
      "                grid[i_idx,j_idx,k_idx] = lik\n",
      "                p_star_grid[i_idx,j_idx,k_idx] = p_stars\n",
      "                    \n",
      "    indices = np.unravel_index(grid.argmax(), grid.shape)\n",
      "    p = 2 ** ii[indices[0]] / float(len(x))\n",
      "    a = 0.5 * jj[indices[1]]\n",
      "    b = 0.1 + 0.2 * kk[indices[2]]\n",
      "\n",
      "    return {'est':{'p':p, 'a':a, 'b':b}, \n",
      "            'indices':indices, \n",
      "            'grid': grid,\n",
      "            'p_stars': p_star_grid[indices],\n",
      "            }\n",
      "    "
     ],
     "language": "python",
     "metadata": {},
     "outputs": [],
     "prompt_number": 67
    },
    {
     "cell_type": "code",
     "collapsed": false,
     "input": [
      "out = estimate_hyperparameters(x, [2, 3], [2, 3], [7, 8])\n",
      "out"
     ],
     "language": "python",
     "metadata": {},
     "outputs": [
      {
       "output_type": "stream",
       "stream": "stdout",
       "text": [
        "Calculating p=0.0357142857143 a=1.0 b=1.5\n",
        "Calculating p=0.0357142857143 a=1.0 b=1.7"
       ]
      },
      {
       "output_type": "stream",
       "stream": "stdout",
       "text": [
        "\n",
        "Calculating p=0.0357142857143 a=1.5 b=1.5"
       ]
      },
      {
       "output_type": "stream",
       "stream": "stdout",
       "text": [
        "\n",
        "Calculating p=0.0357142857143 a=1.5 b=1.7"
       ]
      },
      {
       "output_type": "stream",
       "stream": "stdout",
       "text": [
        "\n",
        "Calculating p=0.0714285714286 a=1.0 b=1.5"
       ]
      },
      {
       "output_type": "stream",
       "stream": "stdout",
       "text": [
        "\n",
        "Calculating p=0.0714285714286 a=1.0 b=1.7"
       ]
      },
      {
       "output_type": "stream",
       "stream": "stdout",
       "text": [
        "\n",
        "Calculating p=0.0714285714286 a=1.5 b=1.5"
       ]
      },
      {
       "output_type": "stream",
       "stream": "stdout",
       "text": [
        "\n",
        "Calculating p=0.0714285714286 a=1.5 b=1.7"
       ]
      },
      {
       "output_type": "stream",
       "stream": "stdout",
       "text": [
        "\n"
       ]
      },
      {
       "metadata": {},
       "output_type": "pyout",
       "prompt_number": 68,
       "text": [
        "{'est': {'a': 1.5, 'b': 1.5000000000000002, 'p': 0.07142857142857142},\n",
        " 'grid': array([[[ 2439.93369615,  2437.84763076],\n",
        "        [ 2449.36612922,  2447.08608313]],\n",
        "\n",
        "       [[ 2513.34404057,  2511.26080253],\n",
        "        [ 2522.77400675,  2520.50545727]]]),\n",
        " 'indices': (1, 1, 0),\n",
        " 'p_stars': array([[  3.81254540e+01,   2.56844747e+06,   6.91867873e+06, ...,\n",
        "          7.32549637e+01,   1.75740123e-02,   7.72747136e+01],\n",
        "       [  0.00000000e+00,   3.49483329e+02,   2.80194269e+05, ...,\n",
        "          9.62258983e+01,   2.37356525e-02,   1.00194840e+02],\n",
        "       [  0.00000000e+00,   0.00000000e+00,   3.81254540e+01, ...,\n",
        "          5.47603193e+01,   1.40203026e-02,   5.61480739e+01],\n",
        "       ..., \n",
        "       [  0.00000000e+00,   0.00000000e+00,   0.00000000e+00, ...,\n",
        "          2.09145348e-01,   2.14776736e-01,   9.70047788e-01],\n",
        "       [  0.00000000e+00,   0.00000000e+00,   0.00000000e+00, ...,\n",
        "          0.00000000e+00,   8.36581392e-02,   5.36941839e-01],\n",
        "       [  0.00000000e+00,   0.00000000e+00,   0.00000000e+00, ...,\n",
        "          0.00000000e+00,   0.00000000e+00,   2.09145348e-01]])}"
       ]
      }
     ],
     "prompt_number": 68
    },
    {
     "cell_type": "code",
     "collapsed": false,
     "input": [
      "def estimate_thetas(x, **kwargs):\n",
      "    p = kwargs['est']['p']\n",
      "    p_stars = kwargs['p_stars']\n",
      "    a = kwargs['est']['a']\n",
      "    b = kwargs['est']['b']\n",
      "    g_stars = np.zeros((len(x), len(x), len(x)))\n",
      "    q_stars = np.zeros((len(x), len(x)))\n",
      "    \n",
      "    def A(i, t):\n",
      "        return a + sum(x[i:t+1])\n",
      "    \n",
      "    def B(i, t):\n",
      "        return (1 / b + t - i + 1) ** -1\n",
      "    \n",
      "    def P(i, t):\n",
      "        if i > t:\n",
      "            raise ValueError('P(i, t) undefined for i > t.')\n",
      "        if i == t:\n",
      "            # same as p_stars[i, t] / p_stars[t:t+1, t].sum()\n",
      "            return 1.0\n",
      "        else:\n",
      "            return p_stars[i, t] / p_stars[i:t+1, t].sum()\n",
      "            \n",
      "    #@memoize\n",
      "    def bigP(t):\n",
      "        return p + g_stars[:t+1, t:, t].sum()\n",
      "    \n",
      "    def G(i, j, t):\n",
      "        return g_stars[i, j, t] / bigP(t)\n",
      "        \n",
      "    def Q(j, t):\n",
      "        if j < t:\n",
      "            raise ValueError('Q(j, t) undefined for j < t. j={}, t={}'.format(j, t))\n",
      "        if j == t:\n",
      "            return 1.0\n",
      "        else:\n",
      "            return q_stars[j, t] / q_stars[t:j+1, t].sum()\n",
      "            \n",
      "    def pi(i, j):\n",
      "        return B(i, j) ** A(i, j) / Gamma(A(i, j))\n",
      "        \n",
      "    def pi_ratio(i, j):\n",
      "        '''\n",
      "        pi(i, t) / pi(i, t+1)\n",
      "        '''               \n",
      "        A_i_jplus1 = A(i, j+1)\n",
      "        r1 = np.exp(A(i, j)     * np.log(B(i, j  )) - \n",
      "                    A_i_jplus1  * np.log(B(i, j + 1)))\n",
      "        #Not sure where this cutoff should be\n",
      "        if A_i_jplus1 < 62:\n",
      "            r2 =  Gamma(A_i_jplus1) / Gamma(A(i, j))\n",
      "        else:\n",
      "            # from Stirling's approximation\n",
      "            r2 = A(i, j) ** x[j+1]\n",
      "        \n",
      "        if np.isinf(r1) or np.isinf(r2) or np.isnan(r1) or np.isnan(r2):\n",
      "            raise ValueError('r1: {}\\nr2: {}'.format(r1, r2))\n",
      "        return r1 * r2\n",
      "        \n",
      "    def big_pi_ratio(i, j, t):\n",
      "        def _log(i,t):\n",
      "            return A(i, t) + np.log(B(i, t))\n",
      "        def minmax(*args):\n",
      "            return min(*args), max(*args)\n",
      "        r1 = np.exp(_log(i, t) + _log(t+1, j) - _log(i, j) + a * np.log(b))\n",
      "        if abs(A(i, t)) > abs(A(t+1, j)):\n",
      "            r22 = Gamma(a) / Gamma(A(i, t))\n",
      "            _min, _max = minmax(A(i, j), A(t+1, j))\n",
      "            r21 = _min ** (A(i,j) - A(t+1, j))\n",
      "        else:\n",
      "            r22 = Gamma(a) / Gamma(A(t+1, j))\n",
      "            _min, _max = minmax(A(i, j), A(i, t))\n",
      "            r21 = _min ** (A(i,j) - A(i, t))\n",
      "        r = r1 * r22 * r21\n",
      "        if np.isnan(r) or np.isinf(r):\n",
      "            raise ValueError('big_pi_ratio({}, {}, {}) = {}'.format(i, j, t, r))\n",
      "        return r\n",
      "            \n",
      "    def q_star(j, t):\n",
      "        if j < t:\n",
      "            raise ValueError('q_star(j, t) undefined for j < t.')\n",
      "        if j == t:\n",
      "            pi_00 = b ** -a / Gamma(a)\n",
      "            val = p * pi_00 / pi(t, t)\n",
      "        else:\n",
      "            #same as val = p * (1 - p) * P(i, t-1) * pi(i, t-1) / pi(i, t)\n",
      "            val = (1 - p) * Q(j, t+1) * pi_ratio(i, t)\n",
      "\n",
      "        if np.isnan(val) or np.isinf(val):\n",
      "        #    print \"(i, t): \", (i, t)\n",
      "        #    print \"p   :\", p\n",
      "        #    print \"P   :\", P(i, t-1)\n",
      "        #    print \"pi_ratio:\", pr\n",
      "        #    print 'p*[i:t+1, t]:', p_stars[0:t+1, t]\n",
      "        #    print 'p*[i, :t]:', p_stars[i, :t]\n",
      "        #    print 'pi[i, :t]:', [pi(i, t_) for t_ in range(t+1)]\n",
      "        #    print A(i, t)\n",
      "            raise ValueError('p*({}, {}) value \"{}\" out of range.'.format(i, j, val))\n",
      "        return val\n",
      "    \n",
      "    for j in range(len(x)):\n",
      "        for t in range(j + 1)[::-1]:\n",
      "            if j == t:\n",
      "                q_stars[j, t] = q_star(j, t)\n",
      "    \n",
      "    for j in range(len(x)):\n",
      "        for t in range(j + 1)[::-1]:\n",
      "            for i in range(t + 1)[::-1]:\n",
      "                print i, j, t\n",
      "                if i == t:\n",
      "                    val = p * p_stars[i, t]\n",
      "                else:\n",
      "                    val = ((1-p) * p * P(i, t) * Q(j, t + 1) * \n",
      "                           big_pi_ratio(i, j, t))\n",
      "                g_stars[i, j, t] = val\n",
      "                \n",
      "    posterior = np.zeros(len(x))\n",
      "    for t in range(len(x)):\n",
      "        _sum = 0\n",
      "        for i in range(t+1):\n",
      "            for j in range(t, len(x)):\n",
      "                _sum += G(i, j, t) * A(i, j) * B(i, j)\n",
      "        posterior[t] = _sum\n",
      "    return posterior\n",
      "                "
     ],
     "language": "python",
     "metadata": {},
     "outputs": [],
     "prompt_number": 88
    },
    {
     "cell_type": "code",
     "collapsed": false,
     "input": [
      "posterior = estimate_thetas(x, **out)"
     ],
     "language": "python",
     "metadata": {},
     "outputs": [
      {
       "ename": "ValueError",
       "evalue": "Q(j, t) undefined for j < t. j=1, t=2",
       "output_type": "pyerr",
       "traceback": [
        "\u001b[1;31m---------------------------------------------------------------------------\u001b[0m\n\u001b[1;31mValueError\u001b[0m                                Traceback (most recent call last)",
        "\u001b[1;32m<ipython-input-91-a13263566efb>\u001b[0m in \u001b[0;36m<module>\u001b[1;34m()\u001b[0m\n\u001b[1;32m----> 1\u001b[1;33m \u001b[0mposterior\u001b[0m \u001b[1;33m=\u001b[0m \u001b[0mestimate_thetas\u001b[0m\u001b[1;33m(\u001b[0m\u001b[0mx\u001b[0m\u001b[1;33m,\u001b[0m \u001b[1;33m**\u001b[0m\u001b[0mout\u001b[0m\u001b[1;33m)\u001b[0m\u001b[1;33m\u001b[0m\u001b[0m\n\u001b[0m",
        "\u001b[1;32m<ipython-input-88-b9885449048b>\u001b[0m in \u001b[0;36mestimate_thetas\u001b[1;34m(x, **kwargs)\u001b[0m\n\u001b[0;32m    111\u001b[0m                     \u001b[0mval\u001b[0m \u001b[1;33m=\u001b[0m \u001b[0mp\u001b[0m \u001b[1;33m*\u001b[0m \u001b[0mp_stars\u001b[0m\u001b[1;33m[\u001b[0m\u001b[0mi\u001b[0m\u001b[1;33m,\u001b[0m \u001b[0mt\u001b[0m\u001b[1;33m]\u001b[0m\u001b[1;33m\u001b[0m\u001b[0m\n\u001b[0;32m    112\u001b[0m                 \u001b[1;32melse\u001b[0m\u001b[1;33m:\u001b[0m\u001b[1;33m\u001b[0m\u001b[0m\n\u001b[1;32m--> 113\u001b[1;33m                     val = ((1-p) * p * P(i, t) * Q(j, t + 1) * \n\u001b[0m\u001b[0;32m    114\u001b[0m                            big_pi_ratio(i, j, t))\n\u001b[0;32m    115\u001b[0m                 \u001b[0mg_stars\u001b[0m\u001b[1;33m[\u001b[0m\u001b[0mi\u001b[0m\u001b[1;33m,\u001b[0m \u001b[0mj\u001b[0m\u001b[1;33m,\u001b[0m \u001b[0mt\u001b[0m\u001b[1;33m]\u001b[0m \u001b[1;33m=\u001b[0m \u001b[0mval\u001b[0m\u001b[1;33m\u001b[0m\u001b[0m\n",
        "\u001b[1;32m<ipython-input-88-b9885449048b>\u001b[0m in \u001b[0;36mQ\u001b[1;34m(j, t)\u001b[0m\n\u001b[0;32m     31\u001b[0m     \u001b[1;32mdef\u001b[0m \u001b[0mQ\u001b[0m\u001b[1;33m(\u001b[0m\u001b[0mj\u001b[0m\u001b[1;33m,\u001b[0m \u001b[0mt\u001b[0m\u001b[1;33m)\u001b[0m\u001b[1;33m:\u001b[0m\u001b[1;33m\u001b[0m\u001b[0m\n\u001b[0;32m     32\u001b[0m         \u001b[1;32mif\u001b[0m \u001b[0mj\u001b[0m \u001b[1;33m<\u001b[0m \u001b[0mt\u001b[0m\u001b[1;33m:\u001b[0m\u001b[1;33m\u001b[0m\u001b[0m\n\u001b[1;32m---> 33\u001b[1;33m             \u001b[1;32mraise\u001b[0m \u001b[0mValueError\u001b[0m\u001b[1;33m(\u001b[0m\u001b[1;34m'Q(j, t) undefined for j < t. j={}, t={}'\u001b[0m\u001b[1;33m.\u001b[0m\u001b[0mformat\u001b[0m\u001b[1;33m(\u001b[0m\u001b[0mj\u001b[0m\u001b[1;33m,\u001b[0m \u001b[0mt\u001b[0m\u001b[1;33m)\u001b[0m\u001b[1;33m)\u001b[0m\u001b[1;33m\u001b[0m\u001b[0m\n\u001b[0m\u001b[0;32m     34\u001b[0m         \u001b[1;32mif\u001b[0m \u001b[0mj\u001b[0m \u001b[1;33m==\u001b[0m \u001b[0mt\u001b[0m\u001b[1;33m:\u001b[0m\u001b[1;33m\u001b[0m\u001b[0m\n\u001b[0;32m     35\u001b[0m             \u001b[1;32mreturn\u001b[0m \u001b[1;36m1.0\u001b[0m\u001b[1;33m\u001b[0m\u001b[0m\n",
        "\u001b[1;31mValueError\u001b[0m: Q(j, t) undefined for j < t. j=1, t=2"
       ]
      },
      {
       "output_type": "stream",
       "stream": "stdout",
       "text": [
        "0 0 0\n",
        "1 1 1\n",
        "0 1 1\n"
       ]
      }
     ],
     "prompt_number": 91
    },
    {
     "cell_type": "code",
     "collapsed": false,
     "input": [
      "posterior"
     ],
     "language": "python",
     "metadata": {},
     "outputs": [
      {
       "ename": "NameError",
       "evalue": "name 'posterior' is not defined",
       "output_type": "pyerr",
       "traceback": [
        "\u001b[1;31m---------------------------------------------------------------------------\u001b[0m\n\u001b[1;31mNameError\u001b[0m                                 Traceback (most recent call last)",
        "\u001b[1;32m<ipython-input-90-df65f598aa5f>\u001b[0m in \u001b[0;36m<module>\u001b[1;34m()\u001b[0m\n\u001b[1;32m----> 1\u001b[1;33m \u001b[0mposterior\u001b[0m\u001b[1;33m\u001b[0m\u001b[0m\n\u001b[0m",
        "\u001b[1;31mNameError\u001b[0m: name 'posterior' is not defined"
       ]
      }
     ],
     "prompt_number": 90
    },
    {
     "cell_type": "code",
     "collapsed": false,
     "input": [],
     "language": "python",
     "metadata": {},
     "outputs": []
    }
   ],
   "metadata": {}
  }
 ]
}